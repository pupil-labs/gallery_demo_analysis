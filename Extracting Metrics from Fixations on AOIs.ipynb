{
 "cells": [
  {
   "cell_type": "markdown",
   "id": "db600330",
   "metadata": {},
   "source": [
    "## Extracting Metrics\n",
    "Marking areas of interest and matching them with fixations helps us get a first visual impression of the data. But if we want to compare areas of interest with each other we need to quantify some metrics. \n",
    "\n",
    "We will show you here how to compute 3 common metrics: \n",
    "- AOI Hit Rate\n",
    "- Time to first Fixation\n",
    "- Dwell Time\n",
    "\n",
    "This notbook uses the fle \"fixations_with_aois_nested.csv\" or \"fixations_with_aois_distributed.csv\" that can be generated with the code in the notebook \"Defining nested AOIs\" or \"Defining distributed AOIs\". "
   ]
  },
  {
   "cell_type": "code",
   "execution_count": 1,
   "id": "e0d24375",
   "metadata": {},
   "outputs": [],
   "source": [
    "import matplotlib.pyplot as plt\n",
    "import numpy as np\n",
    "import os\n",
    "import pandas as pd\n",
    "\n",
    "from PIL import Image\n",
    "\n",
    "# define if you are working with nested or distributed AOIs\n",
    "aoi_layout = 'nested'\n",
    "\n",
    "# set the path on you pc, and define a color map\n",
    "if aoi_layout == 'distributed':\n",
    "    palette = 'viridis'\n",
    "    path_to_reference_image_mapper = './reference_image_enrichments/'\n",
    "elif aoi_layout == 'nested':\n",
    "    palette = 'plasma'\n",
    "    path_to_reference_image_mapper = \"./Art-_Gallery_Picture_Viewing_REFERENCE-IMAGE-MAPPER_multiple_paintings_standing_csv\"\n",
    "else:\n",
    "    raise NotImplementedError(\"Please use the aoi_layout 'nested' or 'distributed'.\")\n",
    "    \n",
    "# import fixation data\n",
    "fixations = pd.read_csv(f'fixations_with_aois_{aoi_layout}.csv')\n",
    "\n",
    "# larger labels are nicer to read\n",
    "plt.rcParams.update({'font.size': 18})"
   ]
  },
  {
   "cell_type": "markdown",
   "id": "f8783e0c",
   "metadata": {},
   "source": [
    "### AOI Hit Rate\n",
    "\n",
    "The Hit Rate of an AOI is defined as the proportion of subjects that looked at the AOI at least once. \n",
    "A Hit Rate of 100% means, every person we recorded looked at the AOI, a Hit Rate of 50% indicates that only every second person looked at the AOI, etc."
   ]
  },
  {
   "cell_type": "code",
   "execution_count": 2,
   "id": "3bb500a7",
   "metadata": {},
   "outputs": [],
   "source": [
    "# first, we extract the hit count\n",
    "fixation_counts = fixations.pivot_table(index = 'section id', \n",
    "                      columns = 'AOI',\n",
    "                      values = 'fixation id',\n",
    "                      fill_value = 0, \n",
    "                      aggfunc = 'count').unstack().to_frame().rename(columns = {0:'fixation count'})\n",
    "fixation_counts.reset_index(inplace = True)\n",
    "\n",
    "# and boil it down to yes/no\n",
    "hits = fixation_counts.copy()\n",
    "hits['hit'] = hits['fixation count']>0\n",
    "\n",
    "# make sure the AOI field is an interger\n",
    "hits['AOI'] = hits['AOI'].astype(int)"
   ]
  },
  {
   "cell_type": "markdown",
   "id": "1ecf27f8",
   "metadata": {},
   "source": [
    "The result is a table that tells us for every AOI and recording id, how often a fixation was detected inside the AOI for that recording (fixation count), and if there was at least one fixation detected (hit).\n",
    "\n",
    "### Visualizing aggregated data\n",
    "To visualize the data, we use the library seaborn. Seaborn is a library for statistical data visualization that allows us to aggregate and plot the data in a few lines of code."
   ]
  },
  {
   "cell_type": "code",
   "execution_count": 3,
   "id": "31f3a9fa",
   "metadata": {},
   "outputs": [
    {
     "data": {
      "image/png": "[encoded data removed]",
      "text/plain": [
       "<Figure size 504x360 with 1 Axes>"
      ]
     },
     "metadata": {
      "needs_background": "light"
     },
     "output_type": "display_data"
    }
   ],
   "source": [
    "import seaborn as sns\n",
    "\n",
    "hit_rate_fig, hit_rate_axs = plt.subplots(1,1, figsize = (7,5))\n",
    "\n",
    "# Get the mean hit rate over observers and plot\n",
    "proportional_hits = hits.groupby('AOI').mean().reset_index()\n",
    "proportional_hits.loc[:,'hit'] =  proportional_hits['hit']*100\n",
    "\n",
    "sns.barplot(x=\"AOI\", y=\"hit\", data=proportional_hits, palette = palette, ax = hit_rate_axs)\n",
    "plt.tight_layout()\n",
    "hit_rate_fig.savefig(f'./figures/hit_rate_{aoi_layout}.png');"
   ]
  },
  {
   "cell_type": "markdown",
   "id": "ec825c10",
   "metadata": {},
   "source": [
    "From this figure, we can see what percentage of observers looked at each AOI."
   ]
  },
  {
   "cell_type": "markdown",
   "id": "973618a1",
   "metadata": {},
   "source": [
    "### Time to first contact\n",
    "Time to first contact measures how long it took observers to look at an AOI for the first time. Short times to first contact mean that the observers looked at the AOI early during the section.\n",
    "\n",
    "We can compute time to first fixation as the difference between the time when the first fixation was registered on an AOI anf the time when the section started."
   ]
  },
  {
   "cell_type": "markdown",
   "id": "30fc1233",
   "metadata": {},
   "source": [
    "### Import section data"
   ]
  },
  {
   "cell_type": "code",
   "execution_count": 4,
   "id": "0a25c0f1",
   "metadata": {
    "scrolled": true
   },
   "outputs": [
    {
     "data": {
      "text/html": [
       "<div>\n",
       "<style scoped>\n",
       "    .dataframe tbody tr th:only-of-type {\n",
       "        vertical-align: middle;\n",
       "    }\n",
       "\n",
       "    .dataframe tbody tr th {\n",
       "        vertical-align: top;\n",
       "    }\n",
       "\n",
       "    .dataframe thead th {\n",
       "        text-align: right;\n",
       "    }\n",
       "</style>\n",
       "<table border=\"1\" class=\"dataframe\">\n",
       "  <thead>\n",
       "    <tr style=\"text-align: right;\">\n",
       "      <th></th>\n",
       "      <th>section id</th>\n",
       "      <th>recording id</th>\n",
       "      <th>recording name</th>\n",
       "      <th>wearer id</th>\n",
       "      <th>wearer name</th>\n",
       "      <th>section start time [ns]</th>\n",
       "      <th>section end time [ns]</th>\n",
       "      <th>start event name</th>\n",
       "      <th>end event name</th>\n",
       "    </tr>\n",
       "  </thead>\n",
       "  <tbody>\n",
       "    <tr>\n",
       "      <th>0</th>\n",
       "      <td>055f4166-0c12-4752-b1a6-32c94b1c56b2</td>\n",
       "      <td>54a0dfa4-23dd-48f4-806e-6fdb519d6a7c</td>\n",
       "      <td>SH_D_S</td>\n",
       "      <td>f5ac063b-fe37-41da-9361-22e0184f0446</td>\n",
       "      <td>SH</td>\n",
       "      <td>1636035560120000000</td>\n",
       "      <td>1636035572525000000</td>\n",
       "      <td>multiple_paintings_10sec_start</td>\n",
       "      <td>multiple_paintings_10sec_end</td>\n",
       "    </tr>\n",
       "    <tr>\n",
       "      <th>1</th>\n",
       "      <td>12050eb8-2135-4820-8a89-472863ef60f2</td>\n",
       "      <td>9583339a-cc7c-41ad-a242-b0db2e421866</td>\n",
       "      <td>JR_D_S</td>\n",
       "      <td>9508d4f6-e26f-48e1-b53f-051d47d27c91</td>\n",
       "      <td>JR</td>\n",
       "      <td>1635864181664000000</td>\n",
       "      <td>1635864196355000000</td>\n",
       "      <td>multiple_paintings_10sec_start</td>\n",
       "      <td>multiple_paintings_10sec_end</td>\n",
       "    </tr>\n",
       "    <tr>\n",
       "      <th>2</th>\n",
       "      <td>2ad6cf23-bbfb-47c4-b9cd-b9612c3327e4</td>\n",
       "      <td>b1eaf63d-a388-4c85-86a4-fa855bc4bea3</td>\n",
       "      <td>AM_D_S</td>\n",
       "      <td>ccd39285-42ae-4780-b119-042974777e7f</td>\n",
       "      <td>AM</td>\n",
       "      <td>1636382551779000000</td>\n",
       "      <td>1636382577933000000</td>\n",
       "      <td>multiple_paintings_10sec_start</td>\n",
       "      <td>multiple_paintings_10sec_end</td>\n",
       "    </tr>\n",
       "    <tr>\n",
       "      <th>3</th>\n",
       "      <td>57840658-7bab-4812-ad96-5f8197f2c195</td>\n",
       "      <td>c9431f2d-9299-4234-81b7-1df1e3e6e97c</td>\n",
       "      <td>SN_D_S</td>\n",
       "      <td>fb6c7332-6a81-4449-825f-57c2d77fba86</td>\n",
       "      <td>SN</td>\n",
       "      <td>1636386863776000000</td>\n",
       "      <td>1636386886095000000</td>\n",
       "      <td>multiple_paintings_10sec_start</td>\n",
       "      <td>multiple_paintings_10sec_end</td>\n",
       "    </tr>\n",
       "    <tr>\n",
       "      <th>4</th>\n",
       "      <td>8bf462f6-7dca-406c-80a5-0fd7604ff5e6</td>\n",
       "      <td>737e94b0-89e5-4d1b-9b06-57d84e51eaca</td>\n",
       "      <td>MT_D_S</td>\n",
       "      <td>d7c42b07-2256-4af9-96a1-22704d8b7f68</td>\n",
       "      <td>MT</td>\n",
       "      <td>1636634036249000000</td>\n",
       "      <td>1636634060648000000</td>\n",
       "      <td>multiple_paintings_10sec_start</td>\n",
       "      <td>multiple_paintings_10sec_end</td>\n",
       "    </tr>\n",
       "  </tbody>\n",
       "</table>\n",
       "</div>"
      ],
      "text/plain": [
       "                             section id                          recording id  \\\n",
       "0  055f4166-0c12-4752-b1a6-32c94b1c56b2  54a0dfa4-23dd-48f4-806e-6fdb519d6a7c   \n",
       "1  12050eb8-2135-4820-8a89-472863ef60f2  9583339a-cc7c-41ad-a242-b0db2e421866   \n",
       "2  2ad6cf23-bbfb-47c4-b9cd-b9612c3327e4  b1eaf63d-a388-4c85-86a4-fa855bc4bea3   \n",
       "3  57840658-7bab-4812-ad96-5f8197f2c195  c9431f2d-9299-4234-81b7-1df1e3e6e97c   \n",
       "4  8bf462f6-7dca-406c-80a5-0fd7604ff5e6  737e94b0-89e5-4d1b-9b06-57d84e51eaca   \n",
       "\n",
       "  recording name                             wearer id wearer name  \\\n",
       "0         SH_D_S  f5ac063b-fe37-41da-9361-22e0184f0446          SH   \n",
       "1         JR_D_S  9508d4f6-e26f-48e1-b53f-051d47d27c91          JR   \n",
       "2         AM_D_S  ccd39285-42ae-4780-b119-042974777e7f          AM   \n",
       "3         SN_D_S  fb6c7332-6a81-4449-825f-57c2d77fba86          SN   \n",
       "4         MT_D_S  d7c42b07-2256-4af9-96a1-22704d8b7f68          MT   \n",
       "\n",
       "   section start time [ns]  section end time [ns]  \\\n",
       "0      1636035560120000000    1636035572525000000   \n",
       "1      1635864181664000000    1635864196355000000   \n",
       "2      1636382551779000000    1636382577933000000   \n",
       "3      1636386863776000000    1636386886095000000   \n",
       "4      1636634036249000000    1636634060648000000   \n",
       "\n",
       "                 start event name                end event name  \n",
       "0  multiple_paintings_10sec_start  multiple_paintings_10sec_end  \n",
       "1  multiple_paintings_10sec_start  multiple_paintings_10sec_end  \n",
       "2  multiple_paintings_10sec_start  multiple_paintings_10sec_end  \n",
       "3  multiple_paintings_10sec_start  multiple_paintings_10sec_end  \n",
       "4  multiple_paintings_10sec_start  multiple_paintings_10sec_end  "
      ]
     },
     "execution_count": 4,
     "metadata": {},
     "output_type": "execute_result"
    }
   ],
   "source": [
    "if aoi_layout == 'nested':\n",
    "    sections = pd.read_csv(f\"{path_to_reference_image_mapper}/sections.csv\")\n",
    "elif aoi_layout == 'distributed':\n",
    "    sections = pd.DataFrame()\n",
    "    for directory in os.listdir(path_to_reference_image_mapper):\n",
    "        one_section = pd.read_csv(f\"{path_to_reference_image_mapper}/{directory}/sections.csv\")\n",
    "        sections = pd.concat([sections, one_section]).drop_duplicates().reset_index(drop=True)\n",
    "    \n",
    "sections.head()"
   ]
  },
  {
   "cell_type": "markdown",
   "id": "55b6e501",
   "metadata": {},
   "source": [
    "### Align timestamps to section start"
   ]
  },
  {
   "cell_type": "code",
   "execution_count": 5,
   "id": "e0e8752b",
   "metadata": {},
   "outputs": [],
   "source": [
    "fixations['aligned timestamp [s]'] = None\n",
    "\n",
    "for section in sections['section id']:\n",
    "    section_idx = fixations[fixations['section id'] == section].index\n",
    "    section_start_time = sections.loc[sections['section id'] == section, 'section start time [ns]'].values\n",
    "    fixations.loc[section_idx, 'aligned timestamp [s]'] = (fixations.loc[section_idx, 'start timestamp [ns]'] - section_start_time)/1e9 "
   ]
  },
  {
   "cell_type": "markdown",
   "id": "c8cea898",
   "metadata": {},
   "source": [
    "### Aggregate and extract first fixation time"
   ]
  },
  {
   "cell_type": "code",
   "execution_count": 6,
   "id": "9e21c7b0",
   "metadata": {},
   "outputs": [],
   "source": [
    "first_contact = pd.DataFrame(fixations.groupby(['section id', 'AOI']).min()['aligned timestamp [s]'])\n",
    "first_contact.reset_index(inplace = True)\n",
    "# make sure the AOI field is an interger\n",
    "first_contact['AOI'] = first_contact['AOI'].astype(int)"
   ]
  },
  {
   "cell_type": "code",
   "execution_count": 7,
   "id": "46d25cc4",
   "metadata": {},
   "outputs": [
    {
     "data": {
      "image/png": "[encoded data removed]",
      "text/plain": [
       "<Figure size 504x360 with 1 Axes>"
      ]
     },
     "metadata": {
      "needs_background": "light"
     },
     "output_type": "display_data"
    }
   ],
   "source": [
    "first_contact_fig, first_contact_ax = plt.subplots(1,1, figsize=(7,5))\n",
    "sns.barplot(x=\"AOI\", y=\"aligned timestamp [s]\", \n",
    "            data=first_contact, palette = palette, ci = None,\n",
    "            ax = first_contact_ax, alpha = 0.5)\n",
    "\n",
    "sns.stripplot(x=\"AOI\", y=\"aligned timestamp [s]\", \n",
    "            data=first_contact, palette = palette, \n",
    "            ax = first_contact_ax);\n",
    "\n",
    "plt.tight_layout()\n",
    "first_contact_fig.savefig(f'./figures/first_contact_{aoi_layout}.png');"
   ]
  },
  {
   "cell_type": "markdown",
   "id": "b7ad473d",
   "metadata": {},
   "source": [
    "We can observe that some AOIs were looked at after short time, while other where only explored later. \n",
    "\n",
    "This plot shows individual data points together with a barplot of the mean values. We can leverage the individual data points to get an estimate of the distribution, outliers, and how many data points contributed to the mean."
   ]
  },
  {
   "cell_type": "markdown",
   "id": "76b32515",
   "metadata": {},
   "source": [
    "### Dwell time\n",
    "\n",
    "Dwell time describes the total time an observer has looked at a given AOI. We can find the dwell time by summing up the durations of all fixations we detected, seperately for each AOI."
   ]
  },
  {
   "cell_type": "code",
   "execution_count": 8,
   "id": "f84fad1f",
   "metadata": {},
   "outputs": [],
   "source": [
    "# add recording name for better readablity\n",
    "dwell = fixations.groupby(['section id', 'AOI']).sum()['duration [ms]']\n",
    "dwell = pd.DataFrame(dwell).sort_values('AOI')\n",
    "dwell.reset_index(inplace = True)\n",
    "# make sure the AOI field is an interger\n",
    "dwell['AOI'] = dwell['AOI'].astype(int)"
   ]
  },
  {
   "cell_type": "code",
   "execution_count": 9,
   "id": "5c47f5de",
   "metadata": {},
   "outputs": [
    {
     "data": {
      "image/png": "[encoded data removed]",
      "text/plain": [
       "<Figure size 504x360 with 1 Axes>"
      ]
     },
     "metadata": {
      "needs_background": "light"
     },
     "output_type": "display_data"
    }
   ],
   "source": [
    "# plot the average time spent on each image\n",
    "dwell_time_fig, dwell_time_ax = plt.subplots(1,1, figsize=(7,5))\n",
    "\n",
    "sns.barplot(x = \"AOI\", y = \"duration [ms]\",\n",
    "            data = dwell, palette = palette, \n",
    "            ci = None, ax = dwell_time_ax, alpha = 0.5)\n",
    "\n",
    "sns.stripplot(x=\"AOI\", y=\"duration [ms]\", \n",
    "            data=dwell, palette = palette, \n",
    "            ax = dwell_time_ax);\n",
    "\n",
    "plt.tight_layout()\n",
    "dwell_time_fig.savefig(f'./figures/dwell_time_{aoi_layout}.png');"
   ]
  },
  {
   "cell_type": "markdown",
   "id": "6ca2f6d0",
   "metadata": {},
   "source": [
    "Oftentimes, the dwell time is longest at the locations that were looked at first, and by most people. "
   ]
  }
 ],
 "metadata": {
  "kernelspec": {
   "display_name": "Python 3 (ipykernel)",
   "language": "python",
   "name": "python3"
  },
  "language_info": {
   "codemirror_mode": {
    "name": "ipython",
    "version": 3
   },
   "file_extension": ".py",
   "mimetype": "text/x-python",
   "name": "python",
   "nbconvert_exporter": "python",
   "pygments_lexer": "ipython3",
   "version": "3.10.0"
  }
 },
 "nbformat": 4,
 "nbformat_minor": 5
}
