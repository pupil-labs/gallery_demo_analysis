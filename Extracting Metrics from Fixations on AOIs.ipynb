{
 "cells": [
  {
   "cell_type": "markdown",
   "id": "6095748c",
   "metadata": {},
   "source": [
    "# Extracting Metrics\n",
    "\n",
    "**Where we start:**\n",
    "This notebook is the last one in the data analysis pipeline described in our [blog post][blog_post_link].\n",
    "\n",
    "We assume that you have went through both the notebook describing how to [Define Nested AOIs][nested_aois_link] and the notebook describing how to [Define Distributed AOIs][distributed_aois_link]. You should have created two csv files that contain the fixation data from either one reference image (nested aois), or several reference images (distributed aois) with an additional column 'AOI' that defines to which AOI each fixation was made. These files should be in the same directory from where you execute this notebook.\n",
    "\n",
    "If you want to save the figures from this notebook, you need to have folder \"figures\" in the same directory.\n",
    "\n",
    "**Dependencies:**\n",
    "[matplotlib][matplotlib_link], [OpenCV][opencv_link], [pandas][pandas_link], [numpy][numpy_link] and [seaborn][seaborn_link] are installed.\n",
    "\n",
    "**What we do:**\n",
    "We aggregate the csv files in several ways to produces summary statistics of how observers explored different AOIs. We will visualise these summaries with seaborn.\n",
    "\n",
    "**What we get:**\n",
    "Figures from 3 different metrics: Hit Rate, Time to First Contact, and Dwell Time. The figures show mean values as well as data points from individual subjects for a better estimation of the variablility in the data.\n",
    "\n",
    "[matplotlib_link]: https://matplotlib.org/ \n",
    "[opencv_link]: https://opencv.org/\n",
    "[pandas_link]: https://pandas.pydata.org/\n",
    "[numpy_link]: https://numpy.org/\n",
    "[seaborn_link]: https://seaborn.pydata.org/"
   ]
  },
  {
   "cell_type": "markdown",
   "id": "457e33d7",
   "metadata": {},
   "source": [
    "## Import Needed Libraries and Define Paths"
   ]
  },
  {
   "cell_type": "code",
   "execution_count": 1,
   "id": "7693692e",
   "metadata": {},
   "outputs": [],
   "source": [
    "import matplotlib.pyplot as plt\n",
    "import numpy as np\n",
    "import os\n",
    "import pandas as pd\n",
    "import seaborn as sns\n",
    "\n",
    "from PIL import Image\n",
    "\n",
    "# ACTION NEEDED: define if you are working with nested or distributed AOIs\n",
    "aoi_layout = 'nested'\n",
    "\n",
    "# define the path and a color map\n",
    "if aoi_layout == 'distributed':\n",
    "    palette = 'viridis'\n",
    "    # ACTION NEEDED: set the path on your pc\n",
    "    path_to_reference_image_mapper = './reference_image_enrichments/'\n",
    "elif aoi_layout == 'nested':\n",
    "    palette = 'plasma'\n",
    "    # ACTION NEEDED: set the path on your pc\n",
    "    path_to_reference_image_mapper = \"./Viewing_Paintings_REFERENCE-IMAGE-MAPPER_multiple_paintings_standing_csv\"\n",
    "else:\n",
    "    raise NotImplementedError(\"Please use the aoi_layout 'nested' or 'distributed'.\")\n",
    "    \n",
    "# larger labels are nicer to read\n",
    "plt.rcParams.update({'font.size': 18})"
   ]
  },
  {
   "cell_type": "markdown",
   "id": "db600330",
   "metadata": {},
   "source": [
    "## Import the Fixation Data"
   ]
  },
  {
   "cell_type": "code",
   "execution_count": 2,
   "id": "e0d24375",
   "metadata": {},
   "outputs": [],
   "source": [
    "fixations = pd.read_csv(f'fixations_with_aois_{aoi_layout}.csv')"
   ]
  },
  {
   "cell_type": "markdown",
   "id": "f8783e0c",
   "metadata": {},
   "source": [
    "## AOI Hit Rate\n",
    "\n",
    "The Hit Rate of an AOI is defined as the proportion of subjects that looked at the AOI at least once. \n",
    "A Hit Rate of 100% means, every person we recorded looked at the AOI, a Hit Rate of 50% indicates that only every second person looked at the AOI, etc."
   ]
  },
  {
   "cell_type": "code",
   "execution_count": 3,
   "id": "3bb500a7",
   "metadata": {},
   "outputs": [],
   "source": [
    "# first, we extract the hit count\n",
    "fixation_counts = fixations.pivot_table(index = 'section id', \n",
    "                      columns = 'AOI',\n",
    "                      values = 'fixation id',\n",
    "                      fill_value = 0, \n",
    "                      aggfunc = 'count').unstack().to_frame().rename(columns = {0:'fixation count'})\n",
    "fixation_counts.reset_index(inplace = True)\n",
    "\n",
    "# and boil it down to yes/no\n",
    "hits = fixation_counts.copy()\n",
    "hits['hit'] = hits['fixation count']>0\n",
    "\n",
    "# make sure the AOI field is an interger\n",
    "hits['AOI'] = hits['AOI'].astype(int)"
   ]
  },
  {
   "cell_type": "markdown",
   "id": "1ecf27f8",
   "metadata": {},
   "source": [
    "The result is a table that tells us for every AOI and recording id, how often a fixation was detected inside the AOI for that recording (fixation count), and if there was at least one fixation detected (hit).\n",
    "\n",
    "## Visualizing Aggregated Data\n",
    "To visualize the data, we use the library seaborn. Seaborn is a library for statistical data visualization that allows us to aggregate and plot the data in a few lines of code."
   ]
  },
  {
   "cell_type": "code",
   "execution_count": 4,
   "id": "31f3a9fa",
   "metadata": {},
   "outputs": [
    {
     "data": {
      "image/png": "[encoded data removed]",
      "text/plain": [
       "<Figure size 504x360 with 1 Axes>"
      ]
     },
     "metadata": {
      "needs_background": "light"
     },
     "output_type": "display_data"
    }
   ],
   "source": [
    "hit_rate_fig = plt.figure(figsize = (7,5))\n",
    "\n",
    "# Get the mean hit rate over observers and plot\n",
    "proportional_hits = hits.groupby('AOI').mean().reset_index()\n",
    "proportional_hits.loc[:,'hit'] =  proportional_hits['hit']*100\n",
    "\n",
    "sns.barplot(x=\"AOI\", y=\"hit\", data=proportional_hits, palette = palette, ax = plt.gca())\n",
    "\n",
    "plt.title(aoi_layout.capitalize())\n",
    "plt.xlabel('AOI ID')\n",
    "plt.ylabel('Hit Rate [%]')\n",
    "\n",
    "plt.tight_layout()\n",
    "# hit_rate_fig.savefig(f'./figures/hit_rate_{aoi_layout}.png');"
   ]
  },
  {
   "cell_type": "markdown",
   "id": "ec825c10",
   "metadata": {},
   "source": [
    "From this figure, we can see what percentage of observers looked at each AOI. It makes sense to compare this plot with the sizes of AOIs, and the location where they were in the world before drawing any conclusions. If you run this notebook once with the nested, and once with the distributed AOI layout, you will notice some significant differences in this plot.\n",
    "\n",
    "If you have troubles remembering which AOI ID here corresponds to which painting, you can pull up the notebooks you used to define the [nested][link_to_nested] or [distributed][link_to_distributed] AOIs right next to this - the numbers visualized on the AOIs there will match the ID here."
   ]
  },
  {
   "cell_type": "markdown",
   "id": "973618a1",
   "metadata": {},
   "source": [
    "## Time to First Contact\n",
    "Time to First Contact measures how long it took observers to look at an AOI for the first time. Short times to first contact mean that the observers looked at the AOI early during the section.\n",
    "\n",
    "We can compute time to first fixation as the difference between the time when the first fixation was registered on an AOI and the time when the section started. So first, we need the information when each section started."
   ]
  },
  {
   "cell_type": "markdown",
   "id": "30fc1233",
   "metadata": {},
   "source": [
    "## Import Section Data\n",
    "To perform this analysis we need to load another file from the Reference Image Mapper - the sections. Sections contain some extra information about the recording - like the time when they started, which is exactly what we need here."
   ]
  },
  {
   "cell_type": "code",
   "execution_count": 5,
   "id": "0a25c0f1",
   "metadata": {
    "scrolled": true
   },
   "outputs": [
    {
     "data": {
      "text/html": [
       "<div>\n",
       "<style scoped>\n",
       "    .dataframe tbody tr th:only-of-type {\n",
       "        vertical-align: middle;\n",
       "    }\n",
       "\n",
       "    .dataframe tbody tr th {\n",
       "        vertical-align: top;\n",
       "    }\n",
       "\n",
       "    .dataframe thead th {\n",
       "        text-align: right;\n",
       "    }\n",
       "</style>\n",
       "<table border=\"1\" class=\"dataframe\">\n",
       "  <thead>\n",
       "    <tr style=\"text-align: right;\">\n",
       "      <th></th>\n",
       "      <th>section id</th>\n",
       "      <th>recording id</th>\n",
       "      <th>recording name</th>\n",
       "      <th>wearer id</th>\n",
       "      <th>wearer name</th>\n",
       "      <th>section start time [ns]</th>\n",
       "      <th>section end time [ns]</th>\n",
       "      <th>start event name</th>\n",
       "      <th>end event name</th>\n",
       "    </tr>\n",
       "  </thead>\n",
       "  <tbody>\n",
       "    <tr>\n",
       "      <th>0</th>\n",
       "      <td>3cd54e6f-f12e-468c-9a7b-6afffd5f0379</td>\n",
       "      <td>54a0deee-23dd-48f4-806e-6fdb519d6a7c</td>\n",
       "      <td>Steven_Standing_Downstairs</td>\n",
       "      <td>f81c3eee-3970-40d1-84a5-6732c8ef2d75</td>\n",
       "      <td>Steven</td>\n",
       "      <td>1636035560120000000</td>\n",
       "      <td>1636035572525000000</td>\n",
       "      <td>multiple_paintings_start</td>\n",
       "      <td>multiple_paintings_end</td>\n",
       "    </tr>\n",
       "    <tr>\n",
       "      <th>1</th>\n",
       "      <td>89011032-f86b-41fa-a7c7-1c39e734113a</td>\n",
       "      <td>95833eee-cc7c-41ad-a242-b0db2e421866</td>\n",
       "      <td>Jack_Standing_Downstairs</td>\n",
       "      <td>539b9eee-bf45-4512-bbb1-05ae07a71517</td>\n",
       "      <td>Jack</td>\n",
       "      <td>1635864181664000000</td>\n",
       "      <td>1635864196355000000</td>\n",
       "      <td>multiple_paintings_start</td>\n",
       "      <td>multiple_paintings_end</td>\n",
       "    </tr>\n",
       "    <tr>\n",
       "      <th>2</th>\n",
       "      <td>701607c8-fd13-4c98-b5cd-2bf7e1b5818a</td>\n",
       "      <td>b1eafeee-a388-4c85-86a4-fa855bc4bea3</td>\n",
       "      <td>Anna_Standing_Downstairs</td>\n",
       "      <td>e4184eee-9fb8-452a-9ba7-05db8471a5af</td>\n",
       "      <td>Anna</td>\n",
       "      <td>1636382551779000000</td>\n",
       "      <td>1636382577933000000</td>\n",
       "      <td>multiple_paintings_start</td>\n",
       "      <td>multiple_paintings_end</td>\n",
       "    </tr>\n",
       "    <tr>\n",
       "      <th>3</th>\n",
       "      <td>93f3ae11-30aa-45a9-b5bd-57b0ed6bad95</td>\n",
       "      <td>c9431eee-9299-4234-81b7-1df1e3e6e97c</td>\n",
       "      <td>Susan_Standing_Downstairs</td>\n",
       "      <td>82efdeee-17e3-476d-9e18-3e05a3228b85</td>\n",
       "      <td>Susan</td>\n",
       "      <td>1636386863776000000</td>\n",
       "      <td>1636386886095000000</td>\n",
       "      <td>multiple_paintings_start</td>\n",
       "      <td>multiple_paintings_end</td>\n",
       "    </tr>\n",
       "    <tr>\n",
       "      <th>4</th>\n",
       "      <td>5ee66696-5b84-4814-bb13-b96dee92dfba</td>\n",
       "      <td>737e9eee-89e5-4d1b-9b06-57d84e51eaca</td>\n",
       "      <td>Michelle_Standing_Downstairs</td>\n",
       "      <td>737c0eee-701a-4579-8457-9c7eb26dc0b6</td>\n",
       "      <td>Michelle</td>\n",
       "      <td>1636634036249000000</td>\n",
       "      <td>1636634060648000000</td>\n",
       "      <td>multiple_paintings_start</td>\n",
       "      <td>multiple_paintings_end</td>\n",
       "    </tr>\n",
       "  </tbody>\n",
       "</table>\n",
       "</div>"
      ],
      "text/plain": [
       "                             section id                          recording id  \\\n",
       "0  3cd54e6f-f12e-468c-9a7b-6afffd5f0379  54a0deee-23dd-48f4-806e-6fdb519d6a7c   \n",
       "1  89011032-f86b-41fa-a7c7-1c39e734113a  95833eee-cc7c-41ad-a242-b0db2e421866   \n",
       "2  701607c8-fd13-4c98-b5cd-2bf7e1b5818a  b1eafeee-a388-4c85-86a4-fa855bc4bea3   \n",
       "3  93f3ae11-30aa-45a9-b5bd-57b0ed6bad95  c9431eee-9299-4234-81b7-1df1e3e6e97c   \n",
       "4  5ee66696-5b84-4814-bb13-b96dee92dfba  737e9eee-89e5-4d1b-9b06-57d84e51eaca   \n",
       "\n",
       "                 recording name                             wearer id  \\\n",
       "0    Steven_Standing_Downstairs  f81c3eee-3970-40d1-84a5-6732c8ef2d75   \n",
       "1      Jack_Standing_Downstairs  539b9eee-bf45-4512-bbb1-05ae07a71517   \n",
       "2      Anna_Standing_Downstairs  e4184eee-9fb8-452a-9ba7-05db8471a5af   \n",
       "3     Susan_Standing_Downstairs  82efdeee-17e3-476d-9e18-3e05a3228b85   \n",
       "4  Michelle_Standing_Downstairs  737c0eee-701a-4579-8457-9c7eb26dc0b6   \n",
       "\n",
       "  wearer name  section start time [ns]  section end time [ns]  \\\n",
       "0      Steven      1636035560120000000    1636035572525000000   \n",
       "1        Jack      1635864181664000000    1635864196355000000   \n",
       "2        Anna      1636382551779000000    1636382577933000000   \n",
       "3       Susan      1636386863776000000    1636386886095000000   \n",
       "4    Michelle      1636634036249000000    1636634060648000000   \n",
       "\n",
       "           start event name          end event name  \n",
       "0  multiple_paintings_start  multiple_paintings_end  \n",
       "1  multiple_paintings_start  multiple_paintings_end  \n",
       "2  multiple_paintings_start  multiple_paintings_end  \n",
       "3  multiple_paintings_start  multiple_paintings_end  \n",
       "4  multiple_paintings_start  multiple_paintings_end  "
      ]
     },
     "execution_count": 5,
     "metadata": {},
     "output_type": "execute_result"
    }
   ],
   "source": [
    "# loading sections if the layout was nested (only one file)\n",
    "if aoi_layout == 'nested':\n",
    "    sections = pd.read_csv(f\"{path_to_reference_image_mapper}/sections.csv\")\n",
    "# loading sections if the layout was distributed (multiple files, requires looping)   \n",
    "elif aoi_layout == 'distributed':\n",
    "    sections = pd.DataFrame()\n",
    "    for directory in os.listdir(path_to_reference_image_mapper):\n",
    "        one_section = pd.read_csv(f\"{path_to_reference_image_mapper}/{directory}/sections.csv\")\n",
    "        sections = pd.concat([sections, one_section]).drop_duplicates().reset_index(drop=True)\n",
    "    \n",
    "sections.head()"
   ]
  },
  {
   "cell_type": "markdown",
   "id": "55b6e501",
   "metadata": {},
   "source": [
    "## Align Timestamps to Section Start\n",
    "Now we can compute the difference between each time stamp and the time when the corresponding section started."
   ]
  },
  {
   "cell_type": "code",
   "execution_count": 6,
   "id": "e0e8752b",
   "metadata": {},
   "outputs": [],
   "source": [
    "# create a new column in the fixation dataframe\n",
    "fixations['aligned timestamp [s]'] = None\n",
    "\n",
    "# compute the difference for the respective section\n",
    "for section in sections['section id']:\n",
    "    section_idx = fixations[fixations['section id'] == section].index\n",
    "    section_start_time = sections.loc[sections['section id'] == section, 'section start time [ns]'].values\n",
    "    # update the value of the aligned time stamp\n",
    "    fixations.loc[section_idx, 'aligned timestamp [s]'] = (fixations.loc[section_idx, 'start timestamp [ns]'] - section_start_time)/1e9 "
   ]
  },
  {
   "cell_type": "markdown",
   "id": "c8cea898",
   "metadata": {},
   "source": [
    "## Extract Time to First Contact\n",
    "Next, we aggregate the fixation data by section id and AOI, and extract the lowest value from the \"aligned timestamp [s]\" column. This is the time when the very first fixation on that AOI appeared in this session."
   ]
  },
  {
   "cell_type": "code",
   "execution_count": 7,
   "id": "9e21c7b0",
   "metadata": {
    "scrolled": false
   },
   "outputs": [
    {
     "data": {
      "text/html": [
       "<div>\n",
       "<style scoped>\n",
       "    .dataframe tbody tr th:only-of-type {\n",
       "        vertical-align: middle;\n",
       "    }\n",
       "\n",
       "    .dataframe tbody tr th {\n",
       "        vertical-align: top;\n",
       "    }\n",
       "\n",
       "    .dataframe thead th {\n",
       "        text-align: right;\n",
       "    }\n",
       "</style>\n",
       "<table border=\"1\" class=\"dataframe\">\n",
       "  <thead>\n",
       "    <tr style=\"text-align: right;\">\n",
       "      <th></th>\n",
       "      <th>section id</th>\n",
       "      <th>AOI</th>\n",
       "      <th>aligned timestamp [s]</th>\n",
       "    </tr>\n",
       "  </thead>\n",
       "  <tbody>\n",
       "    <tr>\n",
       "      <th>0</th>\n",
       "      <td>3cd54e6f-f12e-468c-9a7b-6afffd5f0379</td>\n",
       "      <td>0</td>\n",
       "      <td>2.848527</td>\n",
       "    </tr>\n",
       "    <tr>\n",
       "      <th>1</th>\n",
       "      <td>3cd54e6f-f12e-468c-9a7b-6afffd5f0379</td>\n",
       "      <td>2</td>\n",
       "      <td>0.656495</td>\n",
       "    </tr>\n",
       "    <tr>\n",
       "      <th>2</th>\n",
       "      <td>3cd54e6f-f12e-468c-9a7b-6afffd5f0379</td>\n",
       "      <td>4</td>\n",
       "      <td>7.628501</td>\n",
       "    </tr>\n",
       "    <tr>\n",
       "      <th>3</th>\n",
       "      <td>3cd54e6f-f12e-468c-9a7b-6afffd5f0379</td>\n",
       "      <td>5</td>\n",
       "      <td>1.408506</td>\n",
       "    </tr>\n",
       "    <tr>\n",
       "      <th>4</th>\n",
       "      <td>3cd54e6f-f12e-468c-9a7b-6afffd5f0379</td>\n",
       "      <td>6</td>\n",
       "      <td>0.136652</td>\n",
       "    </tr>\n",
       "  </tbody>\n",
       "</table>\n",
       "</div>"
      ],
      "text/plain": [
       "                             section id  AOI  aligned timestamp [s]\n",
       "0  3cd54e6f-f12e-468c-9a7b-6afffd5f0379    0               2.848527\n",
       "1  3cd54e6f-f12e-468c-9a7b-6afffd5f0379    2               0.656495\n",
       "2  3cd54e6f-f12e-468c-9a7b-6afffd5f0379    4               7.628501\n",
       "3  3cd54e6f-f12e-468c-9a7b-6afffd5f0379    5               1.408506\n",
       "4  3cd54e6f-f12e-468c-9a7b-6afffd5f0379    6               0.136652"
      ]
     },
     "execution_count": 7,
     "metadata": {},
     "output_type": "execute_result"
    }
   ],
   "source": [
    "first_contact = pd.DataFrame(fixations.groupby(['section id', 'AOI']).min()['aligned timestamp [s]'])\n",
    "first_contact.reset_index(inplace = True)\n",
    "# make sure the AOI field is an interger\n",
    "first_contact['AOI'] = first_contact['AOI'].astype(int)\n",
    "\n",
    "first_contact.head()"
   ]
  },
  {
   "cell_type": "markdown",
   "id": "017f8619",
   "metadata": {},
   "source": [
    "## Visualize Time to First Contact"
   ]
  },
  {
   "cell_type": "code",
   "execution_count": 8,
   "id": "46d25cc4",
   "metadata": {},
   "outputs": [
    {
     "data": {
      "image/png": "[encoded data removed]",
      "text/plain": [
       "<Figure size 504x360 with 1 Axes>"
      ]
     },
     "metadata": {
      "needs_background": "light"
     },
     "output_type": "display_data"
    }
   ],
   "source": [
    "# create the figure\n",
    "first_contact_fig = plt.figure(figsize=(7,5))\n",
    "\n",
    "# plot the mean values as bar plots\n",
    "sns.barplot(x=\"AOI\", y=\"aligned timestamp [s]\", \n",
    "            data=first_contact, palette = palette, ci = None,\n",
    "            ax = plt.gca(), alpha = 0.5)\n",
    "# add individual data as dots\n",
    "sns.stripplot(x=\"AOI\", y=\"aligned timestamp [s]\", \n",
    "            data=first_contact, palette = palette, \n",
    "            ax = plt.gca());\n",
    "# set title and axis labels\n",
    "plt.title(aoi_layout.capitalize())\n",
    "plt.ylabel('time to first contact [s]')\n",
    "plt.xlabel('AOI ID')\n",
    "\n",
    "plt.tight_layout()\n",
    "# first_contact_fig.savefig(f'./figures/first_contact_{aoi_layout}.png');"
   ]
  },
  {
   "cell_type": "markdown",
   "id": "b7ad473d",
   "metadata": {},
   "source": [
    "Let's break down what happens in this plot: \n",
    "\n",
    "The bars show us the mean Time to First Contact in seconds. Each bar represents one AOI. That means the higher they are, the longer it took our observers on average to look at this AOI.\n",
    "\n",
    "But the mean value sometimes hides some interesting features in the distribution of our data. That's why on top of the mean values, we plot the Times to First Contact for every individual observer - the single dots that you can see in the plot. This helps you to identify outliers, or can show you if there are any clusters in your data - all of this would be hidden if we'd only show the mean value or standart deviations. "
   ]
  },
  {
   "cell_type": "markdown",
   "id": "76b32515",
   "metadata": {},
   "source": [
    "## Dwell Time\n",
    "\n",
    "Dwell Time describes the total time an observer has looked at a given AOI. We can find the dwell time by summing up the durations of all fixations we detected, seperately for each AOI. Again, we group our data frame, and then sum up all the fixation duration we recorded during our study."
   ]
  },
  {
   "cell_type": "code",
   "execution_count": 9,
   "id": "f84fad1f",
   "metadata": {},
   "outputs": [
    {
     "data": {
      "text/html": [
       "<div>\n",
       "<style scoped>\n",
       "    .dataframe tbody tr th:only-of-type {\n",
       "        vertical-align: middle;\n",
       "    }\n",
       "\n",
       "    .dataframe tbody tr th {\n",
       "        vertical-align: top;\n",
       "    }\n",
       "\n",
       "    .dataframe thead th {\n",
       "        text-align: right;\n",
       "    }\n",
       "</style>\n",
       "<table border=\"1\" class=\"dataframe\">\n",
       "  <thead>\n",
       "    <tr style=\"text-align: right;\">\n",
       "      <th></th>\n",
       "      <th>section id</th>\n",
       "      <th>AOI</th>\n",
       "      <th>duration [ms]</th>\n",
       "      <th>duration [s]</th>\n",
       "    </tr>\n",
       "  </thead>\n",
       "  <tbody>\n",
       "    <tr>\n",
       "      <th>0</th>\n",
       "      <td>3cd54e6f-f12e-468c-9a7b-6afffd5f0379</td>\n",
       "      <td>0</td>\n",
       "      <td>544.0</td>\n",
       "      <td>0.544</td>\n",
       "    </tr>\n",
       "    <tr>\n",
       "      <th>1</th>\n",
       "      <td>701607c8-fd13-4c98-b5cd-2bf7e1b5818a</td>\n",
       "      <td>0</td>\n",
       "      <td>1016.0</td>\n",
       "      <td>1.016</td>\n",
       "    </tr>\n",
       "    <tr>\n",
       "      <th>2</th>\n",
       "      <td>93f3ae11-30aa-45a9-b5bd-57b0ed6bad95</td>\n",
       "      <td>0</td>\n",
       "      <td>2149.0</td>\n",
       "      <td>2.149</td>\n",
       "    </tr>\n",
       "    <tr>\n",
       "      <th>3</th>\n",
       "      <td>5ee66696-5b84-4814-bb13-b96dee92dfba</td>\n",
       "      <td>0</td>\n",
       "      <td>312.0</td>\n",
       "      <td>0.312</td>\n",
       "    </tr>\n",
       "    <tr>\n",
       "      <th>4</th>\n",
       "      <td>89011032-f86b-41fa-a7c7-1c39e734113a</td>\n",
       "      <td>0</td>\n",
       "      <td>1003.0</td>\n",
       "      <td>1.003</td>\n",
       "    </tr>\n",
       "  </tbody>\n",
       "</table>\n",
       "</div>"
      ],
      "text/plain": [
       "                             section id  AOI  duration [ms]  duration [s]\n",
       "0  3cd54e6f-f12e-468c-9a7b-6afffd5f0379    0          544.0         0.544\n",
       "1  701607c8-fd13-4c98-b5cd-2bf7e1b5818a    0         1016.0         1.016\n",
       "2  93f3ae11-30aa-45a9-b5bd-57b0ed6bad95    0         2149.0         2.149\n",
       "3  5ee66696-5b84-4814-bb13-b96dee92dfba    0          312.0         0.312\n",
       "4  89011032-f86b-41fa-a7c7-1c39e734113a    0         1003.0         1.003"
      ]
     },
     "execution_count": 9,
     "metadata": {},
     "output_type": "execute_result"
    }
   ],
   "source": [
    "dwell = fixations.groupby(['section id', 'AOI']).sum()['duration [ms]']\n",
    "dwell = pd.DataFrame(dwell).sort_values('AOI')\n",
    "dwell.reset_index(inplace = True)\n",
    "\n",
    "# translate the dwell time in milliseconds to seconds\n",
    "dwell['duration [s]'] = dwell['duration [ms]']/1000\n",
    "\n",
    "# make sure the AOI field is an interger\n",
    "dwell['AOI'] = dwell['AOI'].astype(int)\n",
    "\n",
    "dwell.head()"
   ]
  },
  {
   "cell_type": "markdown",
   "id": "738e5f3d",
   "metadata": {},
   "source": [
    "## Visualize Dwell Time\n",
    "We will visualize Dwell Time in the same way that we visualized Time to First Contact above."
   ]
  },
  {
   "cell_type": "code",
   "execution_count": 10,
   "id": "5c47f5de",
   "metadata": {},
   "outputs": [
    {
     "data": {
      "image/png": "[encoded data removed]",
      "text/plain": [
       "<Figure size 504x360 with 1 Axes>"
      ]
     },
     "metadata": {
      "needs_background": "light"
     },
     "output_type": "display_data"
    }
   ],
   "source": [
    "# plot the average time spent on each image\n",
    "dwell_time_fig = plt.figure(figsize=(7,5))\n",
    "\n",
    "sns.barplot(x = \"AOI\", y = \"duration [s]\",\n",
    "            data = dwell, palette = palette, \n",
    "            ci = None, ax = plt.gca(), alpha = 0.5)\n",
    "\n",
    "sns.stripplot(x=\"AOI\", y=\"duration [s]\", \n",
    "            data=dwell, palette = palette, \n",
    "            ax = plt.gca());\n",
    "\n",
    "plt.title(aoi_layout.capitalize())\n",
    "plt.ylabel('dwell time [s]')\n",
    "plt.xlabel('AOI ID')\n",
    "plt.tight_layout()\n",
    "\n",
    "# dwell_time_fig.savefig(f'./figures/dwell_time_{aoi_layout}.png');"
   ]
  },
  {
   "cell_type": "markdown",
   "id": "6ca2f6d0",
   "metadata": {},
   "source": [
    "This graph can be read similar to the Time to First Contact graph above - the higher a bar, the more, or the longer fixations observers made on this AOI. The distribution is revealed by the individual dots."
   ]
  },
  {
   "cell_type": "markdown",
   "id": "707b5d40",
   "metadata": {},
   "source": [
    "## The End ... of our Examples\n",
    "\n",
    "There are many many other ways in which we could dive even deeper! We could correlate gaze metrics for observers, or answer the question if longer dwell times where caused by more, or by longer fixations.\n",
    "\n",
    "Maybe you have your own question in mind? \n",
    "\n",
    "Or maybe, you just want to go back and dig through all the data in our [Demo Workspace][workspace_link].\n",
    "\n",
    "Whatever you decide to do - thanks for coding along! Feel free to share any interesting discoveries or pressing questions with the Pupil Invisible community - we love seeing how you get creative.\n",
    "\n",
    "[workspace_link]: https://cloud.pupil-labs.com/workspace/78cddeee-772e-4e54-9963-1cc2f62825f9"
   ]
  }
 ],
 "metadata": {
  "kernelspec": {
   "display_name": "Python 3 (ipykernel)",
   "language": "python",
   "name": "python3"
  },
  "language_info": {
   "codemirror_mode": {
    "name": "ipython",
    "version": 3
   },
   "file_extension": ".py",
   "mimetype": "text/x-python",
   "name": "python",
   "nbconvert_exporter": "python",
   "pygments_lexer": "ipython3",
   "version": "3.10.0"
  }
 },
 "nbformat": 4,
 "nbformat_minor": 5
}
