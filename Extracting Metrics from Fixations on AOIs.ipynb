{
 "cells": [
  {
   "cell_type": "markdown",
   "id": "db600330",
   "metadata": {},
   "source": [
    "## Extracting Metrics\n",
    "Marking areas of interest and matching them with fixations helps us get a first visual impression of the data. But if we want to compare areas of interest with each other we need to compute some metrics. \n",
    "\n",
    "We will show you here how to compute 3 common metrics: \n",
    "- AOI hit rate\n",
    "- Time to first contact\n",
    "- Dwell time\n",
    "\n",
    "This notbook uses the file \"fixations_with_aois_nested.csv\" or \"fixations_with_aois_distributed.csv\" that can be generated with the code in the notebook \"Defining nested AOIs\" or \"Defining distributed AOIs\". "
   ]
  },
  {
   "cell_type": "code",
   "execution_count": 1,
   "id": "e0d24375",
   "metadata": {},
   "outputs": [],
   "source": [
    "import matplotlib.pyplot as plt\n",
    "import numpy as np\n",
    "import os\n",
    "import pandas as pd\n",
    "\n",
    "from PIL import Image\n",
    "\n",
    "# ACTION NEEDED: define if you are working with nested or distributed AOIs\n",
    "aoi_layout = 'distributed'\n",
    "\n",
    "# define the path and a color map\n",
    "if aoi_layout == 'distributed':\n",
    "    palette = 'viridis'\n",
    "    # ACTION NEEDED: set the path on your pc\n",
    "    path_to_reference_image_mapper = './reference_image_enrichments/'\n",
    "elif aoi_layout == 'nested':\n",
    "    palette = 'plasma'\n",
    "    # ACTION NEEDED: set the path on your pc\n",
    "    path_to_reference_image_mapper = \"./Viewing_Paintings_REFERENCE-IMAGE-MAPPER_multiple_paintings_standing_csv\"\n",
    "else:\n",
    "    raise NotImplementedError(\"Please use the aoi_layout 'nested' or 'distributed'.\")\n",
    "    \n",
    "# import fixation data\n",
    "fixations = pd.read_csv(f'fixations_with_aois_{aoi_layout}.csv')\n",
    "\n",
    "# larger labels are nicer to read\n",
    "plt.rcParams.update({'font.size': 18})"
   ]
  },
  {
   "cell_type": "markdown",
   "id": "f8783e0c",
   "metadata": {},
   "source": [
    "### AOI Hit Rate\n",
    "\n",
    "The Hit Rate of an AOI is defined as the proportion of subjects that looked at the AOI at least once. \n",
    "A Hit Rate of 100% means, every person we recorded looked at the AOI, a Hit Rate of 50% indicates that only every second person looked at the AOI, etc."
   ]
  },
  {
   "cell_type": "code",
   "execution_count": 2,
   "id": "3bb500a7",
   "metadata": {},
   "outputs": [],
   "source": [
    "# first, we extract the hit count\n",
    "fixation_counts = fixations.pivot_table(index = 'section id', \n",
    "                      columns = 'AOI',\n",
    "                      values = 'fixation id',\n",
    "                      fill_value = 0, \n",
    "                      aggfunc = 'count').unstack().to_frame().rename(columns = {0:'fixation count'})\n",
    "fixation_counts.reset_index(inplace = True)\n",
    "\n",
    "# and boil it down to yes/no\n",
    "hits = fixation_counts.copy()\n",
    "hits['hit'] = hits['fixation count']>0\n",
    "\n",
    "# make sure the AOI field is an interger\n",
    "hits['AOI'] = hits['AOI'].astype(int)"
   ]
  },
  {
   "cell_type": "markdown",
   "id": "1ecf27f8",
   "metadata": {},
   "source": [
    "The result is a table that tells us for every AOI and recording id, how often a fixation was detected inside the AOI for that recording (fixation count), and if there was at least one fixation detected (hit).\n",
    "\n",
    "### Visualizing aggregated data\n",
    "To visualize the data, we use the library seaborn. Seaborn is a library for statistical data visualization that allows us to aggregate and plot the data in a few lines of code."
   ]
  },
  {
   "cell_type": "code",
   "execution_count": 3,
   "id": "31f3a9fa",
   "metadata": {},
   "outputs": [
    {
     "data": {
      "image/png": "[encoded data removed]",
      "text/plain": [
       "<Figure size 504x360 with 1 Axes>"
      ]
     },
     "metadata": {
      "needs_background": "light"
     },
     "output_type": "display_data"
    }
   ],
   "source": [
    "import seaborn as sns\n",
    "\n",
    "hit_rate_fig, hit_rate_ax = plt.subplots(1,1, figsize = (7,5))\n",
    "\n",
    "# Get the mean hit rate over observers and plot\n",
    "proportional_hits = hits.groupby('AOI').mean().reset_index()\n",
    "proportional_hits.loc[:,'hit'] =  proportional_hits['hit']*100\n",
    "\n",
    "sns.barplot(x=\"AOI\", y=\"hit\", data=proportional_hits, palette = palette, ax = hit_rate_ax)\n",
    "\n",
    "hit_rate_ax.set_title(aoi_layout.capitalize())\n",
    "hit_rate_ax.set_xlabel('AOI ID')\n",
    "hit_rate_ax.set_ylabel('Hit Rate [%]')\n",
    "\n",
    "plt.tight_layout()\n",
    "hit_rate_fig.savefig(f'./figures/hit_rate_{aoi_layout}.png');"
   ]
  },
  {
   "cell_type": "markdown",
   "id": "ec825c10",
   "metadata": {},
   "source": [
    "From this figure, we can see what percentage of observers looked at each AOI."
   ]
  },
  {
   "cell_type": "markdown",
   "id": "973618a1",
   "metadata": {},
   "source": [
    "### Time to first contact\n",
    "Time to first contact measures how long it took observers to look at an AOI for the first time. Short times to first contact mean that the observers looked at the AOI early during the section.\n",
    "\n",
    "We can compute time to first fixation as the difference between the time when the first fixation was registered on an AOI anf the time when the section started."
   ]
  },
  {
   "cell_type": "markdown",
   "id": "30fc1233",
   "metadata": {},
   "source": [
    "### Import section data"
   ]
  },
  {
   "cell_type": "code",
   "execution_count": 4,
   "id": "0a25c0f1",
   "metadata": {
    "scrolled": true
   },
   "outputs": [
    {
     "data": {
      "text/html": [
       "<div>\n",
       "<style scoped>\n",
       "    .dataframe tbody tr th:only-of-type {\n",
       "        vertical-align: middle;\n",
       "    }\n",
       "\n",
       "    .dataframe tbody tr th {\n",
       "        vertical-align: top;\n",
       "    }\n",
       "\n",
       "    .dataframe thead th {\n",
       "        text-align: right;\n",
       "    }\n",
       "</style>\n",
       "<table border=\"1\" class=\"dataframe\">\n",
       "  <thead>\n",
       "    <tr style=\"text-align: right;\">\n",
       "      <th></th>\n",
       "      <th>section id</th>\n",
       "      <th>recording id</th>\n",
       "      <th>recording name</th>\n",
       "      <th>wearer id</th>\n",
       "      <th>wearer name</th>\n",
       "      <th>section start time [ns]</th>\n",
       "      <th>section end time [ns]</th>\n",
       "      <th>start event name</th>\n",
       "      <th>end event name</th>\n",
       "    </tr>\n",
       "  </thead>\n",
       "  <tbody>\n",
       "    <tr>\n",
       "      <th>0</th>\n",
       "      <td>3d9fe3c3-9ced-4c23-bd06-327b52b46a58</td>\n",
       "      <td>71fadd82-ed00-48f1-863b-6bf16a62b095</td>\n",
       "      <td>SH_U_W</td>\n",
       "      <td>f5ac063b-fe37-41da-9361-22e0184f0446</td>\n",
       "      <td>SH</td>\n",
       "      <td>1636035757170000000</td>\n",
       "      <td>1636035940439000000</td>\n",
       "      <td>upstairs_walk_start</td>\n",
       "      <td>upstairs_walk_end</td>\n",
       "    </tr>\n",
       "    <tr>\n",
       "      <th>1</th>\n",
       "      <td>3aed482a-1fc4-466a-91e9-f3836b3d756e</td>\n",
       "      <td>30447fec-c47a-43c3-95d2-84ca6776e0b2</td>\n",
       "      <td>AM_U_W</td>\n",
       "      <td>ccd39285-42ae-4780-b119-042974777e7f</td>\n",
       "      <td>AM</td>\n",
       "      <td>1636382912966000000</td>\n",
       "      <td>1636383234246000000</td>\n",
       "      <td>upstairs_walk_start</td>\n",
       "      <td>upstairs_walk_end</td>\n",
       "    </tr>\n",
       "    <tr>\n",
       "      <th>2</th>\n",
       "      <td>bca9d356-d33a-4021-8045-d8cfcd2a0aae</td>\n",
       "      <td>169f9f76-7afa-444b-9280-588426ab617a</td>\n",
       "      <td>SN_U_W</td>\n",
       "      <td>fb6c7332-6a81-4449-825f-57c2d77fba86</td>\n",
       "      <td>SN</td>\n",
       "      <td>1636387068168000000</td>\n",
       "      <td>1636387286211000000</td>\n",
       "      <td>upstairs_walk_start</td>\n",
       "      <td>upstairs_walk_end</td>\n",
       "    </tr>\n",
       "    <tr>\n",
       "      <th>3</th>\n",
       "      <td>26d64a84-9dc7-4fc5-b319-d5f55ceb2bf5</td>\n",
       "      <td>1abb333a-2980-4439-aac3-f92d79769d28</td>\n",
       "      <td>JR_U_W</td>\n",
       "      <td>9508d4f6-e26f-48e1-b53f-051d47d27c91</td>\n",
       "      <td>JR</td>\n",
       "      <td>1635864313230000000</td>\n",
       "      <td>1635864474989000000</td>\n",
       "      <td>upstairs_walk_start</td>\n",
       "      <td>upstairs_walk_end</td>\n",
       "    </tr>\n",
       "    <tr>\n",
       "      <th>4</th>\n",
       "      <td>bb8c0ab4-b998-41b5-8d50-1264b867ffd3</td>\n",
       "      <td>9b680cd8-5a50-41dd-92d3-c8a08bf74474</td>\n",
       "      <td>MT_U_W</td>\n",
       "      <td>d7c42b07-2256-4af9-96a1-22704d8b7f68</td>\n",
       "      <td>MT</td>\n",
       "      <td>1636634286762000000</td>\n",
       "      <td>1636634570920000000</td>\n",
       "      <td>upstairs_walk_start</td>\n",
       "      <td>upstairs_walk_end</td>\n",
       "    </tr>\n",
       "  </tbody>\n",
       "</table>\n",
       "</div>"
      ],
      "text/plain": [
       "                             section id                          recording id  \\\n",
       "0  3d9fe3c3-9ced-4c23-bd06-327b52b46a58  71fadd82-ed00-48f1-863b-6bf16a62b095   \n",
       "1  3aed482a-1fc4-466a-91e9-f3836b3d756e  30447fec-c47a-43c3-95d2-84ca6776e0b2   \n",
       "2  bca9d356-d33a-4021-8045-d8cfcd2a0aae  169f9f76-7afa-444b-9280-588426ab617a   \n",
       "3  26d64a84-9dc7-4fc5-b319-d5f55ceb2bf5  1abb333a-2980-4439-aac3-f92d79769d28   \n",
       "4  bb8c0ab4-b998-41b5-8d50-1264b867ffd3  9b680cd8-5a50-41dd-92d3-c8a08bf74474   \n",
       "\n",
       "  recording name                             wearer id wearer name  \\\n",
       "0         SH_U_W  f5ac063b-fe37-41da-9361-22e0184f0446          SH   \n",
       "1         AM_U_W  ccd39285-42ae-4780-b119-042974777e7f          AM   \n",
       "2         SN_U_W  fb6c7332-6a81-4449-825f-57c2d77fba86          SN   \n",
       "3         JR_U_W  9508d4f6-e26f-48e1-b53f-051d47d27c91          JR   \n",
       "4         MT_U_W  d7c42b07-2256-4af9-96a1-22704d8b7f68          MT   \n",
       "\n",
       "   section start time [ns]  section end time [ns]     start event name  \\\n",
       "0      1636035757170000000    1636035940439000000  upstairs_walk_start   \n",
       "1      1636382912966000000    1636383234246000000  upstairs_walk_start   \n",
       "2      1636387068168000000    1636387286211000000  upstairs_walk_start   \n",
       "3      1635864313230000000    1635864474989000000  upstairs_walk_start   \n",
       "4      1636634286762000000    1636634570920000000  upstairs_walk_start   \n",
       "\n",
       "      end event name  \n",
       "0  upstairs_walk_end  \n",
       "1  upstairs_walk_end  \n",
       "2  upstairs_walk_end  \n",
       "3  upstairs_walk_end  \n",
       "4  upstairs_walk_end  "
      ]
     },
     "execution_count": 4,
     "metadata": {},
     "output_type": "execute_result"
    }
   ],
   "source": [
    "if aoi_layout == 'nested':\n",
    "    sections = pd.read_csv(f\"{path_to_reference_image_mapper}/sections.csv\")\n",
    "elif aoi_layout == 'distributed':\n",
    "    sections = pd.DataFrame()\n",
    "    for directory in os.listdir(path_to_reference_image_mapper):\n",
    "        one_section = pd.read_csv(f\"{path_to_reference_image_mapper}/{directory}/sections.csv\")\n",
    "        sections = pd.concat([sections, one_section]).drop_duplicates().reset_index(drop=True)\n",
    "    \n",
    "sections.head()"
   ]
  },
  {
   "cell_type": "markdown",
   "id": "55b6e501",
   "metadata": {},
   "source": [
    "### Align timestamps to section start"
   ]
  },
  {
   "cell_type": "code",
   "execution_count": 5,
   "id": "e0e8752b",
   "metadata": {},
   "outputs": [],
   "source": [
    "fixations['aligned timestamp [s]'] = None\n",
    "\n",
    "for section in sections['section id']:\n",
    "    section_idx = fixations[fixations['section id'] == section].index\n",
    "    section_start_time = sections.loc[sections['section id'] == section, 'section start time [ns]'].values\n",
    "    fixations.loc[section_idx, 'aligned timestamp [s]'] = (fixations.loc[section_idx, 'start timestamp [ns]'] - section_start_time)/1e9 "
   ]
  },
  {
   "cell_type": "markdown",
   "id": "c8cea898",
   "metadata": {},
   "source": [
    "### Aggregate and extract first fixation time"
   ]
  },
  {
   "cell_type": "code",
   "execution_count": 6,
   "id": "9e21c7b0",
   "metadata": {},
   "outputs": [],
   "source": [
    "first_contact = pd.DataFrame(fixations.groupby(['section id', 'AOI']).min()['aligned timestamp [s]'])\n",
    "first_contact.reset_index(inplace = True)\n",
    "# make sure the AOI field is an interger\n",
    "first_contact['AOI'] = first_contact['AOI'].astype(int)"
   ]
  },
  {
   "cell_type": "code",
   "execution_count": 7,
   "id": "46d25cc4",
   "metadata": {},
   "outputs": [
    {
     "data": {
      "image/png": "[encoded data removed]",
      "text/plain": [
       "<Figure size 504x360 with 1 Axes>"
      ]
     },
     "metadata": {
      "needs_background": "light"
     },
     "output_type": "display_data"
    }
   ],
   "source": [
    "first_contact_fig, first_contact_ax = plt.subplots(1,1, figsize=(7,5))\n",
    "sns.barplot(x=\"AOI\", y=\"aligned timestamp [s]\", \n",
    "            data=first_contact, palette = palette, ci = None,\n",
    "            ax = first_contact_ax, alpha = 0.5)\n",
    "\n",
    "sns.stripplot(x=\"AOI\", y=\"aligned timestamp [s]\", \n",
    "            data=first_contact, palette = palette, \n",
    "            ax = first_contact_ax);\n",
    "\n",
    "first_contact_ax.set_title(aoi_layout.capitalize())\n",
    "first_contact_ax.set_ylabel('time to first contact [s]')\n",
    "first_contact_ax.set_xlabel('AOI ID')\n",
    "\n",
    "plt.tight_layout()\n",
    "first_contact_fig.savefig(f'./figures/first_contact_{aoi_layout}.png');"
   ]
  },
  {
   "cell_type": "markdown",
   "id": "b7ad473d",
   "metadata": {},
   "source": [
    "We can observe that some AOIs were looked at after short time, while other where only explored later. \n",
    "\n",
    "This plot shows individual data points together with a barplot of the mean values. We can leverage the individual data points to get an estimate of the distribution, outliers, and how many data points contributed to the mean."
   ]
  },
  {
   "cell_type": "markdown",
   "id": "76b32515",
   "metadata": {},
   "source": [
    "### Dwell time\n",
    "\n",
    "Dwell time describes the total time an observer has looked at a given AOI. We can find the dwell time by summing up the durations of all fixations we detected, seperately for each AOI."
   ]
  },
  {
   "cell_type": "code",
   "execution_count": 8,
   "id": "f84fad1f",
   "metadata": {},
   "outputs": [],
   "source": [
    "# add recording name for better readablity\n",
    "dwell = fixations.groupby(['section id', 'AOI']).sum()['duration [ms]']\n",
    "dwell = pd.DataFrame(dwell).sort_values('AOI')\n",
    "dwell.reset_index(inplace = True)\n",
    "\n",
    "# translate the dwell time in milliseconds to seconds\n",
    "dwell['duration [s]'] = dwell['duration [ms]']/1000\n",
    "\n",
    "# make sure the AOI field is an interger\n",
    "dwell['AOI'] = dwell['AOI'].astype(int)"
   ]
  },
  {
   "cell_type": "code",
   "execution_count": 9,
   "id": "5c47f5de",
   "metadata": {},
   "outputs": [
    {
     "data": {
      "image/png": "[encoded data removed]",
      "text/plain": [
       "<Figure size 504x360 with 1 Axes>"
      ]
     },
     "metadata": {
      "needs_background": "light"
     },
     "output_type": "display_data"
    }
   ],
   "source": [
    "# plot the average time spent on each image\n",
    "dwell_time_fig, dwell_time_ax = plt.subplots(1,1, figsize=(7,5))\n",
    "\n",
    "sns.barplot(x = \"AOI\", y = \"duration [s]\",\n",
    "            data = dwell, palette = palette, \n",
    "            ci = None, ax = dwell_time_ax, alpha = 0.5)\n",
    "\n",
    "sns.stripplot(x=\"AOI\", y=\"duration [s]\", \n",
    "            data=dwell, palette = palette, \n",
    "            ax = dwell_time_ax);\n",
    "\n",
    "dwell_time_ax.set_title(aoi_layout.capitalize())\n",
    "dwell_time_ax.set_ylabel('dwell time [s]')\n",
    "dwell_time_ax.set_xlabel('AOI ID')\n",
    "plt.tight_layout()\n",
    "dwell_time_fig.savefig(f'./figures/dwell_time_{aoi_layout}.png');"
   ]
  },
  {
   "cell_type": "markdown",
   "id": "6ca2f6d0",
   "metadata": {},
   "source": [
    "Oftentimes, the dwell time is longest at the locations that were looked at first, and by most people. "
   ]
  }
 ],
 "metadata": {
  "kernelspec": {
   "display_name": "Python 3 (ipykernel)",
   "language": "python",
   "name": "python3"
  },
  "language_info": {
   "codemirror_mode": {
    "name": "ipython",
    "version": 3
   },
   "file_extension": ".py",
   "mimetype": "text/x-python",
   "name": "python",
   "nbconvert_exporter": "python",
   "pygments_lexer": "ipython3",
   "version": "3.10.0"
  }
 },
 "nbformat": 4,
 "nbformat_minor": 5
}
